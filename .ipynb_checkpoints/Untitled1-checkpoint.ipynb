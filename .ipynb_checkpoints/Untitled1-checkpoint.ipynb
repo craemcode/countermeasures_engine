{
 "cells": [
  {
   "cell_type": "code",
   "execution_count": 1,
   "id": "1091d8db",
   "metadata": {},
   "outputs": [],
   "source": [
    "from main import new_data"
   ]
  },
  {
   "cell_type": "code",
   "execution_count": 2,
   "id": "354b4265",
   "metadata": {},
   "outputs": [
    {
     "data": {
      "text/html": [
       "<div>\n",
       "<style scoped>\n",
       "    .dataframe tbody tr th:only-of-type {\n",
       "        vertical-align: middle;\n",
       "    }\n",
       "\n",
       "    .dataframe tbody tr th {\n",
       "        vertical-align: top;\n",
       "    }\n",
       "\n",
       "    .dataframe thead th {\n",
       "        text-align: right;\n",
       "    }\n",
       "</style>\n",
       "<table border=\"1\" class=\"dataframe\">\n",
       "  <thead>\n",
       "    <tr style=\"text-align: right;\">\n",
       "      <th></th>\n",
       "      <th>Name</th>\n",
       "      <th>Description</th>\n",
       "      <th>Comments</th>\n",
       "    </tr>\n",
       "  </thead>\n",
       "  <tbody>\n",
       "    <tr>\n",
       "      <th>0</th>\n",
       "      <td>CVE-1999-0001</td>\n",
       "      <td>ip_input.c in BSD-derived TCP/IP implementatio...</td>\n",
       "      <td>Christey&gt; A Bugtraq posting indicates that the...</td>\n",
       "    </tr>\n",
       "    <tr>\n",
       "      <th>1</th>\n",
       "      <td>CVE-1999-0002</td>\n",
       "      <td>Buffer overflow in NFS mountd gives root acces...</td>\n",
       "      <td>NaN</td>\n",
       "    </tr>\n",
       "    <tr>\n",
       "      <th>2</th>\n",
       "      <td>CVE-1999-0003</td>\n",
       "      <td>Execute commands as root via buffer overflow i...</td>\n",
       "      <td>NaN</td>\n",
       "    </tr>\n",
       "    <tr>\n",
       "      <th>3</th>\n",
       "      <td>CVE-1999-0004</td>\n",
       "      <td>MIME buffer overflow in email clients, e.g. So...</td>\n",
       "      <td>Frech&gt; Extremely minor, but I believe e-mail i...</td>\n",
       "    </tr>\n",
       "    <tr>\n",
       "      <th>4</th>\n",
       "      <td>CVE-1999-0005</td>\n",
       "      <td>Arbitrary command execution via IMAP buffer ov...</td>\n",
       "      <td>NaN</td>\n",
       "    </tr>\n",
       "    <tr>\n",
       "      <th>...</th>\n",
       "      <td>...</td>\n",
       "      <td>...</td>\n",
       "      <td>...</td>\n",
       "    </tr>\n",
       "    <tr>\n",
       "      <th>244162</th>\n",
       "      <td>CVE-2022-38111</td>\n",
       "      <td>** RESERVED ** This candidate has been reserve...</td>\n",
       "      <td>NaN</td>\n",
       "    </tr>\n",
       "    <tr>\n",
       "      <th>244163</th>\n",
       "      <td>CVE-2022-38112</td>\n",
       "      <td>** RESERVED ** This candidate has been reserve...</td>\n",
       "      <td>NaN</td>\n",
       "    </tr>\n",
       "    <tr>\n",
       "      <th>244164</th>\n",
       "      <td>CVE-2022-38113</td>\n",
       "      <td>** RESERVED ** This candidate has been reserve...</td>\n",
       "      <td>NaN</td>\n",
       "    </tr>\n",
       "    <tr>\n",
       "      <th>244165</th>\n",
       "      <td>CVE-2022-38114</td>\n",
       "      <td>** RESERVED ** This candidate has been reserve...</td>\n",
       "      <td>NaN</td>\n",
       "    </tr>\n",
       "    <tr>\n",
       "      <th>244166</th>\n",
       "      <td>CVE-2022-38115</td>\n",
       "      <td>** RESERVED ** This candidate has been reserve...</td>\n",
       "      <td>NaN</td>\n",
       "    </tr>\n",
       "  </tbody>\n",
       "</table>\n",
       "<p>244167 rows × 3 columns</p>\n",
       "</div>"
      ],
      "text/plain": [
       "                  Name                                        Description  \\\n",
       "0        CVE-1999-0001  ip_input.c in BSD-derived TCP/IP implementatio...   \n",
       "1        CVE-1999-0002  Buffer overflow in NFS mountd gives root acces...   \n",
       "2        CVE-1999-0003  Execute commands as root via buffer overflow i...   \n",
       "3        CVE-1999-0004  MIME buffer overflow in email clients, e.g. So...   \n",
       "4        CVE-1999-0005  Arbitrary command execution via IMAP buffer ov...   \n",
       "...                ...                                                ...   \n",
       "244162  CVE-2022-38111  ** RESERVED ** This candidate has been reserve...   \n",
       "244163  CVE-2022-38112  ** RESERVED ** This candidate has been reserve...   \n",
       "244164  CVE-2022-38113  ** RESERVED ** This candidate has been reserve...   \n",
       "244165  CVE-2022-38114  ** RESERVED ** This candidate has been reserve...   \n",
       "244166  CVE-2022-38115  ** RESERVED ** This candidate has been reserve...   \n",
       "\n",
       "                                                 Comments  \n",
       "0       Christey> A Bugtraq posting indicates that the...  \n",
       "1                                                     NaN  \n",
       "2                                                     NaN  \n",
       "3       Frech> Extremely minor, but I believe e-mail i...  \n",
       "4                                                     NaN  \n",
       "...                                                   ...  \n",
       "244162                                                NaN  \n",
       "244163                                                NaN  \n",
       "244164                                                NaN  \n",
       "244165                                                NaN  \n",
       "244166                                                NaN  \n",
       "\n",
       "[244167 rows x 3 columns]"
      ]
     },
     "execution_count": 2,
     "metadata": {},
     "output_type": "execute_result"
    }
   ],
   "source": [
    "new_data"
   ]
  },
  {
   "cell_type": "code",
   "execution_count": 3,
   "id": "f985229c",
   "metadata": {},
   "outputs": [
    {
     "data": {
      "text/plain": [
       "0    CVE-1999-0001\n",
       "Name: Name, dtype: object"
      ]
     },
     "execution_count": 3,
     "metadata": {},
     "output_type": "execute_result"
    }
   ],
   "source": [
    "new_data.Name[[0]]"
   ]
  },
  {
   "cell_type": "markdown",
   "id": "fb1ddb61",
   "metadata": {},
   "source": [
    "Let us try a rudimentary method"
   ]
  },
  {
   "cell_type": "markdown",
   "id": "e9b1b501",
   "metadata": {},
   "source": [
    "Plan of attack,,,obviously, iterate lines...then add the lines"
   ]
  },
  {
   "cell_type": "markdown",
   "id": "c0b2f2e5",
   "metadata": {},
   "source": [
    "we already have a dataframe...so why not turn it into csv"
   ]
  },
  {
   "cell_type": "code",
   "execution_count": 4,
   "id": "9faaaf41",
   "metadata": {},
   "outputs": [],
   "source": [
    "new_data.to_csv('new_data_frame.csv')"
   ]
  },
  {
   "cell_type": "markdown",
   "id": "c0537740",
   "metadata": {},
   "source": [
    "now, let us open a file handler.."
   ]
  },
  {
   "cell_type": "code",
   "execution_count": 6,
   "id": "3b80697b",
   "metadata": {},
   "outputs": [],
   "source": [
    "import csv\n",
    "\n",
    "file = open('new_data_frame.csv')\n",
    "csvreader = csv.reader(file)"
   ]
  },
  {
   "cell_type": "code",
   "execution_count": 8,
   "id": "7390337b",
   "metadata": {},
   "outputs": [
    {
     "name": "stdout",
     "output_type": "stream",
     "text": [
      "['0', 'CVE-1999-0001', 'ip_input.c in BSD-derived TCP/IP implementations allows remote attackers to cause a denial of service (crash or hang) via crafted packets.', 'Christey> A Bugtraq posting indicates that the bug has to do with  |    \"short packets with certain options set,\" so the description  |    should be modified accordingly.  |      |    But is this the same as CVE-1999-0052?  That one is related  |    to nestea (CVE-1999-0257) and probably the one described in  |    BUGTRAQ:19981023 nestea v2 against freebsd 3.0-Release  |    The patch for nestea is in ip_input.c around line 750.  |    The patches for CVE-1999-0001 are in lines 388&446.  So,   |    CVE-1999-0001 is different from CVE-1999-0257 and CVE-1999-0052.  |    The FreeBSD patch for CVE-1999-0052 is in line 750.  |    So, CVE-1999-0257 and CVE-1999-0052 may be the same, though  |    CVE-1999-0052 should be RECAST since this bug affects Linux  |    and other OSes besides FreeBSD.  |    Frech> XF:teardrop(338)  |    This assignment was based solely on references to the CERT advisory.  |    Christey> The description for BID:190, which links to CVE-1999-0052 (a  |    FreeBSD advisory), notes that the patches provided by FreeBSD in  |    CERT:CA-1998-13 suggest a connection between CVE-1999-0001 and  |    CVE-1999-0052.  CERT:CA-1998-13 is too vague to be sure without  |    further analysis.']\n"
     ]
    }
   ],
   "source": [
    "headers = []\n",
    "headers = next(csvreader)\n",
    "print(headers)"
   ]
  },
  {
   "cell_type": "code",
   "execution_count": 9,
   "id": "d139b5d5",
   "metadata": {},
   "outputs": [
    {
     "name": "stdout",
     "output_type": "stream",
     "text": [
      "Help on class enumerate in module builtins:\n",
      "\n",
      "class enumerate(object)\n",
      " |  enumerate(iterable, start=0)\n",
      " |  \n",
      " |  Return an enumerate object.\n",
      " |  \n",
      " |    iterable\n",
      " |      an object supporting iteration\n",
      " |  \n",
      " |  The enumerate object yields pairs containing a count (from start, which\n",
      " |  defaults to zero) and a value yielded by the iterable argument.\n",
      " |  \n",
      " |  enumerate is useful for obtaining an indexed list:\n",
      " |      (0, seq[0]), (1, seq[1]), (2, seq[2]), ...\n",
      " |  \n",
      " |  Methods defined here:\n",
      " |  \n",
      " |  __getattribute__(self, name, /)\n",
      " |      Return getattr(self, name).\n",
      " |  \n",
      " |  __iter__(self, /)\n",
      " |      Implement iter(self).\n",
      " |  \n",
      " |  __next__(self, /)\n",
      " |      Implement next(self).\n",
      " |  \n",
      " |  __reduce__(...)\n",
      " |      Return state information for pickling.\n",
      " |  \n",
      " |  ----------------------------------------------------------------------\n",
      " |  Class methods defined here:\n",
      " |  \n",
      " |  __class_getitem__(...) from builtins.type\n",
      " |      See PEP 585\n",
      " |  \n",
      " |  ----------------------------------------------------------------------\n",
      " |  Static methods defined here:\n",
      " |  \n",
      " |  __new__(*args, **kwargs) from builtins.type\n",
      " |      Create and return a new object.  See help(type) for accurate signature.\n",
      "\n"
     ]
    }
   ],
   "source": [
    "help(enumerate)"
   ]
  },
  {
   "cell_type": "code",
   "execution_count": 27,
   "id": "7d28cc22",
   "metadata": {},
   "outputs": [],
   "source": [
    "\n",
    "        "
   ]
  },
  {
   "cell_type": "code",
   "execution_count": null,
   "id": "22771a8d",
   "metadata": {},
   "outputs": [],
   "source": []
  },
  {
   "cell_type": "code",
   "execution_count": 1,
   "id": "5189ea3f",
   "metadata": {},
   "outputs": [
    {
     "ename": "NameError",
     "evalue": "name 'csvreader' is not defined",
     "output_type": "error",
     "traceback": [
      "\u001b[1;31m---------------------------------------------------------------------------\u001b[0m",
      "\u001b[1;31mNameError\u001b[0m                                 Traceback (most recent call last)",
      "Input \u001b[1;32mIn [1]\u001b[0m, in \u001b[0;36m<cell line: 1>\u001b[1;34m()\u001b[0m\n\u001b[1;32m----> 1\u001b[0m \u001b[38;5;28;01mfor\u001b[39;00m line \u001b[38;5;129;01min\u001b[39;00m \u001b[43mcsvreader\u001b[49m:\n\u001b[0;32m      2\u001b[0m     \u001b[38;5;28;01mif\u001b[39;00m line[\u001b[38;5;241m0\u001b[39m] \u001b[38;5;241m<\u001b[39m \u001b[38;5;241m4\u001b[39m:\n\u001b[0;32m      3\u001b[0m         \u001b[38;5;28mprint\u001b[39m(line[\u001b[38;5;241m1\u001b[39m])\n",
      "\u001b[1;31mNameError\u001b[0m: name 'csvreader' is not defined"
     ]
    }
   ],
   "source": [
    "for line in csvreader:\n",
    "    if line[0] < 4:\n",
    "        print(line[1])\n",
    "    break"
   ]
  },
  {
   "cell_type": "code",
   "execution_count": null,
   "id": "5599e7ff",
   "metadata": {},
   "outputs": [],
   "source": []
  },
  {
   "cell_type": "code",
   "execution_count": null,
   "id": "74018397",
   "metadata": {},
   "outputs": [],
   "source": []
  }
 ],
 "metadata": {
  "kernelspec": {
   "display_name": "Python 3 (ipykernel)",
   "language": "python",
   "name": "python3"
  },
  "language_info": {
   "codemirror_mode": {
    "name": "ipython",
    "version": 3
   },
   "file_extension": ".py",
   "mimetype": "text/x-python",
   "name": "python",
   "nbconvert_exporter": "python",
   "pygments_lexer": "ipython3",
   "version": "3.9.12"
  }
 },
 "nbformat": 4,
 "nbformat_minor": 5
}
