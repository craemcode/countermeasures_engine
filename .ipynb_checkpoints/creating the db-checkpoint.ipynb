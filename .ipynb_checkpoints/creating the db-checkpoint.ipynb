{
 "cells": [
  {
   "cell_type": "markdown",
   "id": "5bd89ccd",
   "metadata": {},
   "source": [
    "# Creating and Populating the database"
   ]
  },
  {
   "cell_type": "markdown",
   "id": "8977dedf",
   "metadata": {},
   "source": [
    "In this interractive session, we will try to populate our database with all the necessary records. I am only interested in the name, description, and comment of the vulnerability.\n",
    "\n",
    "I will segregate the desired attributes from the dataframe given to us by pandas. Lets gooo!!!!"
   ]
  },
  {
   "cell_type": "markdown",
   "id": "67813f45",
   "metadata": {},
   "source": [
    "Step 1: creating the database"
   ]
  },
  {
   "cell_type": "code",
   "execution_count": 6,
   "id": "88067462",
   "metadata": {},
   "outputs": [],
   "source": [
    "from app.model import Base, engine"
   ]
  },
  {
   "cell_type": "code",
   "execution_count": 8,
   "id": "081c423c",
   "metadata": {},
   "outputs": [
    {
     "name": "stdout",
     "output_type": "stream",
     "text": [
      "2022-08-10 21:59:16,670 INFO sqlalchemy.engine.Engine BEGIN (implicit)\n",
      "2022-08-10 21:59:16,672 INFO sqlalchemy.engine.Engine PRAGMA main.table_info(\"vulnerability\")\n",
      "2022-08-10 21:59:16,673 INFO sqlalchemy.engine.Engine [raw sql] ()\n",
      "2022-08-10 21:59:16,676 INFO sqlalchemy.engine.Engine PRAGMA temp.table_info(\"vulnerability\")\n",
      "2022-08-10 21:59:16,678 INFO sqlalchemy.engine.Engine [raw sql] ()\n",
      "2022-08-10 21:59:16,681 INFO sqlalchemy.engine.Engine \n",
      "CREATE TABLE vulnerability (\n",
      "\tid INTEGER NOT NULL, \n",
      "\tname VARCHAR(30), \n",
      "\tdescription VARCHAR(200), \n",
      "\tcomments VARCHAR(200), \n",
      "\tPRIMARY KEY (id)\n",
      ")\n",
      "\n",
      "\n",
      "2022-08-10 21:59:16,683 INFO sqlalchemy.engine.Engine [no key 0.00218s] ()\n",
      "2022-08-10 21:59:16,685 INFO sqlalchemy.engine.Engine COMMIT\n"
     ]
    }
   ],
   "source": [
    "Base.metadata.create_all(engine)"
   ]
  },
  {
   "cell_type": "markdown",
   "id": "e5757f99",
   "metadata": {},
   "source": []
  }
 ],
 "metadata": {
  "kernelspec": {
   "display_name": "Python 3 (ipykernel)",
   "language": "python",
   "name": "python3"
  },
  "language_info": {
   "codemirror_mode": {
    "name": "ipython",
    "version": 3
   },
   "file_extension": ".py",
   "mimetype": "text/x-python",
   "name": "python",
   "nbconvert_exporter": "python",
   "pygments_lexer": "ipython3",
   "version": "3.9.12"
  }
 },
 "nbformat": 4,
 "nbformat_minor": 5
}
