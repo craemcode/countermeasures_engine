{
 "cells": [
  {
   "cell_type": "markdown",
   "id": "39b0b297",
   "metadata": {},
   "source": [
    "# How to use the Smart Countermeasures Engine"
   ]
  },
  {
   "cell_type": "markdown",
   "id": "b7f3e0d7",
   "metadata": {},
   "source": [
    "This jupyter notebook explains how one can use the current state of countemeasures engine to get vulnerability relationship information."
   ]
  },
  {
   "cell_type": "code",
   "execution_count": 1,
   "id": "ab7ad336",
   "metadata": {},
   "outputs": [],
   "source": [
    "#we import the starting function\n",
    "from main import welcome_menu"
   ]
  },
  {
   "cell_type": "markdown",
   "id": "26494a6f",
   "metadata": {},
   "source": [
    "The <code>welcome_menu</code> is the starting point for the program. The menu has three options.\n",
    "\n",
    "<b> Option 1:</b> Make a vulnerability tree <br>\n",
    "<b> Option 2:</b> Show vulnerability relationships <br>\n",
    "<b> Option 3:</b> Provide a Description<br>\n",
    "<b> Option 4:</b> Show Countermeasures for a vulnerability <br>\n",
    "<b> Option 5:</b> Exit from the Program <br>"
   ]
  },
  {
   "cell_type": "markdown",
   "id": "66dd85bc",
   "metadata": {},
   "source": [
    "## 1. Adding a vulnerability tree to the database"
   ]
  },
  {
   "cell_type": "markdown",
   "id": "1154f8c2",
   "metadata": {},
   "source": [
    "We will start with option 1, buidling the vulnerability tree. This example tree is shown on page __ in the report"
   ]
  },
  {
   "cell_type": "code",
   "execution_count": 2,
   "id": "0ac33b01",
   "metadata": {
    "scrolled": false
   },
   "outputs": [
    {
     "name": "stdout",
     "output_type": "stream",
     "text": [
      "Welcome to the smart countermeasures engine\n",
      "\n",
      "\n",
      "MAIN MENU.\n",
      " Choose Option \n",
      "1\n",
      "Enter CVE for root node:\n",
      "CVE-2010-1848\n",
      "Enter Educational complexity for root node\n",
      "5\n",
      "Enter Countermeasure for Root Node\n",
      "No information on countermeasures\n",
      "Press any button to begin. Press Exit to quit:b\n",
      "Enter CVE for child node:\n",
      "CVE-2007-5969\n",
      "Enter Educational complexity for node \n",
      "9\n",
      "Enter Countermeasure for Node\n",
      "Upgrade to Mysql version 5.0.51 or higher\n",
      "Enter Parent ID\n",
      "CVE-2010-1848\n",
      "Do you want to add another child? Y/N:Y\n",
      "Press any button to begin. Press Exit to quit:B\n",
      "Enter CVE for child node:\n",
      "CVE-2007-2692\n",
      "Enter Educational complexity for node \n",
      "8\n",
      "Enter Countermeasure for Node\n",
      "No information on countermeasures\n",
      "Enter Parent ID\n",
      "CVE-2010-1848\n",
      "Do you want to add another child? Y/N:Y\n",
      "Press any button to begin. Press Exit to quit:B\n",
      "Enter CVE for child node:\n",
      "CVE-2007-3782\n",
      "Enter Educational complexity for node \n",
      "7\n",
      "Enter Countermeasure for Node\n",
      "No information on countermeasures\n",
      "Enter Parent ID\n",
      "CVE-2010-1848\n",
      "Do you want to add another child? Y/N:Y\n",
      "Press any button to begin. Press Exit to quit:B\n",
      "Enter CVE for child node:\n",
      "CVE-2006-4227\n",
      "Enter Educational complexity for node \n",
      "8\n",
      "Enter Countermeasure for Node\n",
      "No information on countermeasures\n",
      "Enter Parent ID\n",
      "CVE-2010-1848\n",
      "Do you want to add another child? Y/N:Y\n",
      "Press any button to begin. Press Exit to quit:B\n",
      "Enter CVE for child node:\n",
      "CVE-2004-0627\n",
      "Enter Educational complexity for node \n",
      "8\n",
      "Enter Countermeasure for Node\n",
      "Upgrade to MySQL version 4.1.3 or download bugfix at mysql.com\n",
      "Enter Parent ID\n",
      "CVE-2007-5969\n",
      "Do you want to add another child? Y/N:Y\n",
      "Press any button to begin. Press Exit to quit:B\n",
      "Enter CVE for child node:\n",
      "CVE-2006-2753\n",
      "Enter Educational complexity for node \n",
      "5\n",
      "Enter Countermeasure for Node\n",
      "Upgrade to v 5.1.12 or higher, or download bugfix at dev.mysql.com\n",
      "Enter Parent ID\n",
      "CVE-2004-0627\n",
      "Do you want to add another child? Y/N:Y\n",
      "Press any button to begin. Press Exit to quit:B\n",
      "Enter CVE for child node:\n",
      "CVE-2005-2468\n",
      "Enter Educational complexity for node \n",
      "5\n",
      "Enter Countermeasure for Node\n",
      "No information on countermeasures\n",
      "Enter Parent ID\n",
      "CVE-2004-0627\n",
      "Do you want to add another child? Y/N:N\n",
      "Tree successfully stored!\n",
      "Children successfully stored!\n",
      "Countermeasures successfully stored!\n",
      "Countermeasures successfully stored!\n",
      "Countermeasures successfully stored!\n",
      "Countermeasures successfully stored!\n",
      "Countermeasures successfully stored!\n",
      "Countermeasures successfully stored!\n",
      "Countermeasures successfully stored!\n",
      "Countermeasures successfully stored!\n",
      "MAIN MENU.\n",
      " Choose Option \n",
      "Exit\n",
      "Thankyou for choosing the countermeasures engine !\n"
     ]
    }
   ],
   "source": [
    "welcome_menu()"
   ]
  },
  {
   "cell_type": "markdown",
   "id": "d91029d7",
   "metadata": {},
   "source": [
    "## 2. How to view relationships between vulnerabilities."
   ]
  },
  {
   "cell_type": "markdown",
   "id": "dbf64a0e",
   "metadata": {},
   "source": [
    "One can view a vulnerability tree by inputing the CVE number for the root node. This is option 2 on the menu."
   ]
  },
  {
   "cell_type": "code",
   "execution_count": null,
   "id": "c299657e",
   "metadata": {
    "scrolled": false
   },
   "outputs": [
    {
     "name": "stdout",
     "output_type": "stream",
     "text": [
      "Welcome to the smart countermeasures engine\n",
      "\n",
      "\n",
      "MAIN MENU.\n",
      " Choose Option \n",
      "2\n",
      "Enter the CVE for the root node of a vulnerability tree\n",
      "CVE-2010-1848\n",
      "The root vulnerability is CVE-2010-1848 with complexity 5\n",
      "\t Exploit CVE-2010-1848 through CVE-2007-5969 with education complexity 9\n",
      "\t Exploit CVE-2010-1848 through CVE-2007-2692 with education complexity 8\n",
      "\t Exploit CVE-2010-1848 through CVE-2007-3782 with education complexity 7\n",
      "\t Exploit CVE-2010-1848 through CVE-2006-4227 with education complexity 8\n",
      "\t Exploit CVE-2007-5969 through CVE-2004-0627 with education complexity 8\n",
      "\t Exploit CVE-2004-0627 through CVE-2006-2753 with education complexity 5\n",
      "\t Exploit CVE-2004-0627 through CVE-2005-2468 with education complexity 5\n",
      "Average Complexity: 6.875\n",
      "MAIN MENU.\n",
      " Choose Option \n"
     ]
    }
   ],
   "source": [
    "welcome_menu()"
   ]
  },
  {
   "cell_type": "markdown",
   "id": "e461aaa0",
   "metadata": {},
   "source": [
    "## 3. How to view Countermeasures"
   ]
  },
  {
   "cell_type": "markdown",
   "id": "7dd31e98",
   "metadata": {},
   "source": [
    "The final function is viewing the countermeasures from the vulnerability tree. The function takes a vulnerability's CVE and prints its countermeasure."
   ]
  },
  {
   "cell_type": "code",
   "execution_count": 4,
   "id": "aa101068",
   "metadata": {
    "scrolled": false
   },
   "outputs": [
    {
     "name": "stdout",
     "output_type": "stream",
     "text": [
      "Welcome to the smart countermeasures engine\n",
      "\n",
      "\n",
      "MAIN MENU.\n",
      " Choose Option \n",
      "3\n",
      "Enter CVE which you want to see countermeasures. Press Exit to quit \n",
      "CVE-2010-1848\n",
      "Vulnerability\t\tCountermeasure\n",
      "CVE-2010-1848\t\tNo information on countermeasures\n",
      "\n",
      "Enter CVE which you want to see countermeasures. Press Exit to quit \n",
      "CVE-2007-5969\n",
      "Vulnerability\t\tCountermeasure\n",
      "CVE-2007-5969\t\tUpgrade to Mysql version 5.0.51 or higher\n",
      "\n",
      "Enter CVE which you want to see countermeasures. Press Exit to quit \n",
      "CVE-2004-0627\n",
      "Vulnerability\t\tCountermeasure\n",
      "CVE-2004-0627\t\tUpgrade to MySQL version 4.1.3 or download bugfix at mysql.com\n",
      "\n",
      "Enter CVE which you want to see countermeasures. Press Exit to quit \n",
      "Exit\n",
      "MAIN MENU.\n",
      " Choose Option \n",
      "Exit\n",
      "Thankyou for choosing the countermeasures engine !\n"
     ]
    }
   ],
   "source": [
    "welcome_menu()"
   ]
  },
  {
   "cell_type": "markdown",
   "id": "e273e6f5",
   "metadata": {},
   "source": [
    "### Thankyou!"
   ]
  }
 ],
 "metadata": {
  "kernelspec": {
   "display_name": "Python 3 (ipykernel)",
   "language": "python",
   "name": "python3"
  },
  "language_info": {
   "codemirror_mode": {
    "name": "ipython",
    "version": 3
   },
   "file_extension": ".py",
   "mimetype": "text/x-python",
   "name": "python",
   "nbconvert_exporter": "python",
   "pygments_lexer": "ipython3",
   "version": "3.9.12"
  }
 },
 "nbformat": 4,
 "nbformat_minor": 5
}
